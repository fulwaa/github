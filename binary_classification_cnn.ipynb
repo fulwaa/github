{
 "cells": [
  {
   "cell_type": "code",
   "execution_count": 2,
   "metadata": {},
   "outputs": [],
   "source": [
    "%pip install keras\n",
    "%pip install tensorflow\n",
    "\n"
   ]
  },
  {
   "cell_type": "code",
   "execution_count": 11,
   "metadata": {},
   "outputs": [],
   "source": [
    "#import packages\n",
    "import keras\n",
    "import tensorflow as tf\n",
    "import tensorflow.keras.backend as K"
   ]
  },
  {
   "cell_type": "code",
   "execution_count": 2,
   "metadata": {},
   "outputs": [
    {
     "name": "stdout",
     "output_type": "stream",
     "text": [
      "Found 8005 files belonging to 2 classes.\n"
     ]
    }
   ],
   "source": [
    "train_ds = keras.utils.image_dataset_from_directory(\n",
    "    directory = 'dataset/training_set',\n",
    "    labels='inferred',\n",
    "    label_mode ='binary',\n",
    "    batch_size=12,\n",
    "    image_size=(128,128))"
   ]
  },
  {
   "cell_type": "code",
   "execution_count": 3,
   "metadata": {},
   "outputs": [
    {
     "name": "stdout",
     "output_type": "stream",
     "text": [
      "Found 2023 files belonging to 2 classes.\n"
     ]
    }
   ],
   "source": [
    "validation_ds = keras.utils.image_dataset_from_directory(\n",
    "    directory = 'dataset/test_set',\n",
    "    labels='inferred',\n",
    "    label_mode='binary',\n",
    "    batch_size=12,\n",
    "    image_size=(128,128))\n"
   ]
  },
  {
   "cell_type": "code",
   "execution_count": 4,
   "metadata": {},
   "outputs": [],
   "source": [
    "#normalize\n",
    "def process(image,label):\n",
    "    image=tf.cast(image/255,tf.float32)\n",
    "    return image ,label\n",
    "\n",
    "train_ds =train_ds.map(process)\n",
    "validation_ds = validation_ds.map(process)\n"
   ]
  },
  {
   "cell_type": "code",
   "execution_count": 32,
   "metadata": {},
   "outputs": [
    {
     "name": "stderr",
     "output_type": "stream",
     "text": [
      "/home/fulwa/video/sample_deep/venv/lib/python3.10/site-packages/keras/src/layers/convolutional/base_conv.py:99: UserWarning: Do not pass an `input_shape`/`input_dim` argument to a layer. When using Sequential models, prefer using an `Input(shape)` object as the first layer in the model instead.\n",
      "  super().__init__(\n"
     ]
    }
   ],
   "source": [
    "#create CNN model\n",
    "model = tf.keras.Sequential()\n",
    "\n",
    "model.add(tf.keras.layers.Conv2D(64,kernel_size=(3,3),padding='valid',activation='relu',input_shape=(128,128,3),))\n",
    "model.add(tf.keras.layers.MaxPooling2D(pool_size=(2,2),strides=2,padding='valid'))\n",
    "\n",
    "model.add(tf.keras.layers.Conv2D(32,kernel_size=(3,3),padding='valid',activation='relu'))\n",
    "model.add(tf.keras.layers.MaxPooling2D(pool_size=(2,2),strides=2,padding='valid'))\n",
    "\n",
    "# model.add(tf.keras.layers.Conv2D(128,kernel_size=(3,3),padding='valid',activation='relu'))\n",
    "# model.add(tf.keras.layers.MaxPooling2D(pool_size=(2,2),strides=2,padding='valid'))\n",
    "\n",
    "model.add(tf.keras.layers.Flatten())\n",
    "model.add(tf.keras.layers.Dense(64,activation='relu'))\n",
    "model.add(tf.keras.layers.Dense(32,activation='relu'))\n",
    "model.add(tf.keras.layers.Dense(1,activation='sigmoid'))"
   ]
  },
  {
   "cell_type": "code",
   "execution_count": 33,
   "metadata": {},
   "outputs": [],
   "source": [
    "\n",
    "model.compile(optimizer='adam',loss=keras.losses.BinaryCrossentropy(from_logits=True),\n",
    "metrics=['accuracy'])\n",
    "\n"
   ]
  },
  {
   "cell_type": "code",
   "execution_count": 34,
   "metadata": {},
   "outputs": [],
   "source": [
    "callback = keras.callbacks.EarlyStopping(monitor='loss',patience=3)\n"
   ]
  },
  {
   "cell_type": "code",
   "execution_count": 35,
   "metadata": {},
   "outputs": [
    {
     "name": "stdout",
     "output_type": "stream",
     "text": [
      "Epoch 1/50\n",
      "\u001b[1m668/668\u001b[0m \u001b[32m━━━━━━━━━━━━━━━━━━━━\u001b[0m\u001b[37m\u001b[0m \u001b[1m62s\u001b[0m 91ms/step - accuracy: 0.5337 - loss: 0.7057 - val_accuracy: 0.5774 - val_loss: 0.6775\n",
      "Epoch 2/50\n",
      "\u001b[1m668/668\u001b[0m \u001b[32m━━━━━━━━━━━━━━━━━━━━\u001b[0m\u001b[37m\u001b[0m \u001b[1m61s\u001b[0m 91ms/step - accuracy: 0.6112 - loss: 0.6554 - val_accuracy: 0.6347 - val_loss: 0.7363\n",
      "Epoch 3/50\n",
      "\u001b[1m668/668\u001b[0m \u001b[32m━━━━━━━━━━━━━━━━━━━━\u001b[0m\u001b[37m\u001b[0m \u001b[1m62s\u001b[0m 93ms/step - accuracy: 0.6986 - loss: 0.5781 - val_accuracy: 0.7133 - val_loss: 0.5769\n",
      "Epoch 4/50\n",
      "\u001b[1m668/668\u001b[0m \u001b[32m━━━━━━━━━━━━━━━━━━━━\u001b[0m\u001b[37m\u001b[0m \u001b[1m62s\u001b[0m 92ms/step - accuracy: 0.7742 - loss: 0.4697 - val_accuracy: 0.6747 - val_loss: 0.7176\n",
      "Epoch 5/50\n",
      "\u001b[1m668/668\u001b[0m \u001b[32m━━━━━━━━━━━━━━━━━━━━\u001b[0m\u001b[37m\u001b[0m \u001b[1m61s\u001b[0m 92ms/step - accuracy: 0.8485 - loss: 0.3422 - val_accuracy: 0.6985 - val_loss: 0.8737\n",
      "Epoch 6/50\n",
      "\u001b[1m668/668\u001b[0m \u001b[32m━━━━━━━━━━━━━━━━━━━━\u001b[0m\u001b[37m\u001b[0m \u001b[1m62s\u001b[0m 92ms/step - accuracy: 0.9096 - loss: 0.2203 - val_accuracy: 0.6930 - val_loss: 1.0728\n",
      "Epoch 7/50\n",
      "\u001b[1m668/668\u001b[0m \u001b[32m━━━━━━━━━━━━━━━━━━━━\u001b[0m\u001b[37m\u001b[0m \u001b[1m62s\u001b[0m 93ms/step - accuracy: 0.9362 - loss: 0.1573 - val_accuracy: 0.6935 - val_loss: 1.4492\n",
      "Epoch 8/50\n",
      "\u001b[1m668/668\u001b[0m \u001b[32m━━━━━━━━━━━━━━━━━━━━\u001b[0m\u001b[37m\u001b[0m \u001b[1m62s\u001b[0m 93ms/step - accuracy: 0.9677 - loss: 0.0899 - val_accuracy: 0.6728 - val_loss: 1.4053\n",
      "Epoch 9/50\n",
      "\u001b[1m668/668\u001b[0m \u001b[32m━━━━━━━━━━━━━━━━━━━━\u001b[0m\u001b[37m\u001b[0m \u001b[1m62s\u001b[0m 93ms/step - accuracy: 0.9745 - loss: 0.0770 - val_accuracy: 0.7084 - val_loss: 1.4706\n",
      "Epoch 10/50\n",
      "\u001b[1m668/668\u001b[0m \u001b[32m━━━━━━━━━━━━━━━━━━━━\u001b[0m\u001b[37m\u001b[0m \u001b[1m62s\u001b[0m 93ms/step - accuracy: 0.9819 - loss: 0.0522 - val_accuracy: 0.7074 - val_loss: 1.6008\n",
      "Epoch 11/50\n",
      "\u001b[1m668/668\u001b[0m \u001b[32m━━━━━━━━━━━━━━━━━━━━\u001b[0m\u001b[37m\u001b[0m \u001b[1m62s\u001b[0m 93ms/step - accuracy: 0.9846 - loss: 0.0506 - val_accuracy: 0.7054 - val_loss: 1.7593\n",
      "Epoch 12/50\n",
      "\u001b[1m668/668\u001b[0m \u001b[32m━━━━━━━━━━━━━━━━━━━━\u001b[0m\u001b[37m\u001b[0m \u001b[1m62s\u001b[0m 93ms/step - accuracy: 0.9908 - loss: 0.0326 - val_accuracy: 0.6901 - val_loss: 1.9582\n",
      "Epoch 13/50\n",
      "\u001b[1m668/668\u001b[0m \u001b[32m━━━━━━━━━━━━━━━━━━━━\u001b[0m\u001b[37m\u001b[0m \u001b[1m62s\u001b[0m 93ms/step - accuracy: 0.9879 - loss: 0.0336 - val_accuracy: 0.6940 - val_loss: 2.0130\n",
      "Epoch 14/50\n",
      "\u001b[1m668/668\u001b[0m \u001b[32m━━━━━━━━━━━━━━━━━━━━\u001b[0m\u001b[37m\u001b[0m \u001b[1m62s\u001b[0m 93ms/step - accuracy: 0.9916 - loss: 0.0249 - val_accuracy: 0.7079 - val_loss: 2.0798\n",
      "Epoch 15/50\n",
      "\u001b[1m668/668\u001b[0m \u001b[32m━━━━━━━━━━━━━━━━━━━━\u001b[0m\u001b[37m\u001b[0m \u001b[1m62s\u001b[0m 93ms/step - accuracy: 0.9928 - loss: 0.0238 - val_accuracy: 0.7074 - val_loss: 2.2839\n",
      "Epoch 16/50\n",
      "\u001b[1m668/668\u001b[0m \u001b[32m━━━━━━━━━━━━━━━━━━━━\u001b[0m\u001b[37m\u001b[0m \u001b[1m62s\u001b[0m 93ms/step - accuracy: 0.9879 - loss: 0.0398 - val_accuracy: 0.6881 - val_loss: 2.0975\n",
      "Epoch 17/50\n",
      "\u001b[1m668/668\u001b[0m \u001b[32m━━━━━━━━━━━━━━━━━━━━\u001b[0m\u001b[37m\u001b[0m \u001b[1m62s\u001b[0m 93ms/step - accuracy: 0.9942 - loss: 0.0201 - val_accuracy: 0.7118 - val_loss: 2.5035\n",
      "Epoch 18/50\n",
      "\u001b[1m668/668\u001b[0m \u001b[32m━━━━━━━━━━━━━━━━━━━━\u001b[0m\u001b[37m\u001b[0m \u001b[1m62s\u001b[0m 93ms/step - accuracy: 0.9928 - loss: 0.0350 - val_accuracy: 0.6846 - val_loss: 2.3615\n",
      "Epoch 19/50\n",
      "\u001b[1m668/668\u001b[0m \u001b[32m━━━━━━━━━━━━━━━━━━━━\u001b[0m\u001b[37m\u001b[0m \u001b[1m62s\u001b[0m 93ms/step - accuracy: 0.9950 - loss: 0.0153 - val_accuracy: 0.7034 - val_loss: 2.4839\n",
      "Epoch 20/50\n",
      "\u001b[1m668/668\u001b[0m \u001b[32m━━━━━━━━━━━━━━━━━━━━\u001b[0m\u001b[37m\u001b[0m \u001b[1m62s\u001b[0m 93ms/step - accuracy: 0.9973 - loss: 0.0122 - val_accuracy: 0.7029 - val_loss: 2.7041\n",
      "Epoch 21/50\n",
      "\u001b[1m668/668\u001b[0m \u001b[32m━━━━━━━━━━━━━━━━━━━━\u001b[0m\u001b[37m\u001b[0m \u001b[1m62s\u001b[0m 93ms/step - accuracy: 0.9946 - loss: 0.0188 - val_accuracy: 0.6851 - val_loss: 2.7130\n",
      "Epoch 22/50\n",
      "\u001b[1m668/668\u001b[0m \u001b[32m━━━━━━━━━━━━━━━━━━━━\u001b[0m\u001b[37m\u001b[0m \u001b[1m62s\u001b[0m 93ms/step - accuracy: 0.9909 - loss: 0.0258 - val_accuracy: 0.6920 - val_loss: 2.4324\n",
      "Epoch 23/50\n",
      "\u001b[1m668/668\u001b[0m \u001b[32m━━━━━━━━━━━━━━━━━━━━\u001b[0m\u001b[37m\u001b[0m \u001b[1m62s\u001b[0m 93ms/step - accuracy: 0.9934 - loss: 0.0232 - val_accuracy: 0.6980 - val_loss: 2.3731\n"
     ]
    }
   ],
   "source": [
    "history = model.fit(train_ds,epochs=50,validation_data=validation_ds,verbose = 'auto',batch_size = 16 ,callbacks=[callback])"
   ]
  },
  {
   "cell_type": "code",
   "execution_count": 40,
   "metadata": {},
   "outputs": [
    {
     "name": "stdout",
     "output_type": "stream",
     "text": [
      "\u001b[1m169/169\u001b[0m \u001b[32m━━━━━━━━━━━━━━━━━━━━\u001b[0m\u001b[37m\u001b[0m \u001b[1m4s\u001b[0m 25ms/step - accuracy: 0.6873 - loss: 2.4248\n"
     ]
    },
    {
     "data": {
      "text/plain": [
       "[2.3730955123901367, 0.6979733109474182]"
      ]
     },
     "execution_count": 40,
     "metadata": {},
     "output_type": "execute_result"
    }
   ],
   "source": [
    "model.evaluate(validation_ds)"
   ]
  },
  {
   "cell_type": "code",
   "execution_count": 25,
   "metadata": {},
   "outputs": [],
   "source": [
    "model.save('model.keras')"
   ]
  },
  {
   "cell_type": "code",
   "execution_count": null,
   "metadata": {},
   "outputs": [],
   "source": []
  }
 ],
 "metadata": {
  "kernelspec": {
   "display_name": "venv",
   "language": "python",
   "name": "python3"
  },
  "language_info": {
   "codemirror_mode": {
    "name": "ipython",
    "version": 3
   },
   "file_extension": ".py",
   "mimetype": "text/x-python",
   "name": "python",
   "nbconvert_exporter": "python",
   "pygments_lexer": "ipython3",
   "version": "3.10.12"
  }
 },
 "nbformat": 4,
 "nbformat_minor": 2
}
